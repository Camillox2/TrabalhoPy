{
 "cells": [
  {
   "cell_type": "markdown",
   "id": "3c9f5dee",
   "metadata": {},
   "source": [
    "# Detecao de Fraudes em Cartoes\n",
    "\n",
    "Notebook gerado automaticamente pelo CLI (CLI - notebook).\n",
    "\n",
    "Use as celulas abaixo para reproduzir o treinamento, analisar as metricas e visualizar os artefatos gerados.\n"
   ]
  },
  {
   "cell_type": "code",
   "execution_count": null,
   "id": "ee2dfbce",
   "metadata": {},
   "outputs": [],
   "source": [
    "from pathlib import Path\n",
    "\n",
    "DATASET_PATH = Path(r\"C:/Users/vitor/Downloads/py/TrabalhoPy/creditcard - menor balanceado.csv\")\n",
    "OUTPUT_DIR = Path(r\"C:/Users/vitor/Downloads/py/TrabalhoPy/output\")"
   ]
  },
  {
   "cell_type": "code",
   "execution_count": null,
   "id": "fd9bfcc1",
   "metadata": {},
   "outputs": [],
   "source": [
    "from py.main import run_training_workflow\n",
    "\n",
    "result = run_training_workflow(\n",
    "    dataset_path=DATASET_PATH,\n",
    "    output_dir=OUTPUT_DIR,\n",
    "    generate_html=True,\n",
    "    open_report=False,\n",
    "    run_context=\"Notebook\"\n",
    ")\n",
    "metrics = result[\"metrics_table\"]\n",
    "metrics"
   ]
  },
  {
   "cell_type": "code",
   "execution_count": null,
   "id": "4cd458d3",
   "metadata": {},
   "outputs": [],
   "source": [
    "from IPython.display import Image, display\n",
    "\n",
    "display(Image(filename=OUTPUT_DIR / \"confusion_best.png\"))\n",
    "display(Image(filename=OUTPUT_DIR / \"confusion_ensemble.png\"))"
   ]
  },
  {
   "cell_type": "code",
   "execution_count": null,
   "id": "a79088c3",
   "metadata": {},
   "outputs": [],
   "source": [
    "from IPython.display import HTML\n",
    "\n",
    "report_file = OUTPUT_DIR / \"report.html\"\n",
    "if report_file.exists():\n",
    "    HTML(report_file.read_text(encoding=\"utf-8\"))\n",
    "else:\n",
    "    print(\"Relatorio HTML ainda nao foi gerado. Rode a celula anterior primeiro.\")"
   ]
  }
 ],
 "metadata": {
  "kernelspec": {
   "display_name": "Python 3",
   "language": "python",
   "name": "python3"
  },
  "language_info": {
   "name": "python",
   "version": "3.13"
  }
 },
 "nbformat": 4,
 "nbformat_minor": 5
}
